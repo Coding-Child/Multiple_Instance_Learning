{
 "cells": [
  {
   "cell_type": "code",
   "metadata": {
    "ExecuteTime": {
     "end_time": "2024-04-19T03:46:14.305558Z",
     "start_time": "2024-04-19T03:46:07.440785Z"
    }
   },
   "source": [
    "import glob\n",
    "\n",
    "from tqdm import tqdm\n",
    "from Dataset.MILDataset import generate_patches_json"
   ],
   "outputs": [],
   "execution_count": 1
  },
  {
   "cell_type": "code",
   "metadata": {
    "ExecuteTime": {
     "end_time": "2024-04-19T08:31:20.490581Z",
     "start_time": "2024-04-19T03:49:03.809675Z"
    }
   },
   "source": [
    "paths_train = glob.glob('cmc_data/**/*.jpg')\n",
    "paths_train.sort(key=lambda x: int(x.split('_')[-1].split('.')[0]))\n",
    "paths_train = [path.replace('\\\\', '/') for path in paths_train if '\\\\' in path]\n",
    "\n",
    "with tqdm(total=len(paths_train), ncols=150, ascii=True) as pbar:\n",
    "    for path in paths_train:\n",
    "        generate_patches_json(path, 224, save_path='cmc_data')\n",
    "\n",
    "        pbar.update(1)"
   ],
   "outputs": [
    {
     "name": "stderr",
     "output_type": "stream",
     "text": [
      "100%|###########################################################################################################| 1463/1463 [4:42:16<00:00, 11.58s/it]\n"
     ]
    }
   ],
   "execution_count": 6
  },
  {
   "cell_type": "code",
   "execution_count": 5,
   "metadata": {},
   "outputs": [
    {
     "name": "stderr",
     "output_type": "stream",
     "text": [
      "100%|###############################################################################################################| 129/129 [44:05<00:00, 20.51s/it]\n"
     ]
    }
   ],
   "source": [
    "paths_test = glob.glob('camelyon_test_data/**/*.jpg')\n",
    "paths_test.sort(key=lambda x: int(x.split('_')[-1].split('.')[0]))\n",
    "with tqdm(total=len(paths_test), ncols=150, ascii=True) as pbar:\n",
    "    for path in paths_test:\n",
    "        generate_patches_json(path, 224, save_path='camelyon_test_data')\n",
    "\n",
    "        pbar.update(1)"
   ]
  }
 ],
 "metadata": {
  "kernelspec": {
   "display_name": "Python 3 (ipykernel)",
   "language": "python",
   "name": "python3"
  },
  "language_info": {
   "codemirror_mode": {
    "name": "ipython",
    "version": 3
   },
   "file_extension": ".py",
   "mimetype": "text/x-python",
   "name": "python",
   "nbconvert_exporter": "python",
   "pygments_lexer": "ipython3",
   "version": "3.8.18"
  }
 },
 "nbformat": 4,
 "nbformat_minor": 4
}
